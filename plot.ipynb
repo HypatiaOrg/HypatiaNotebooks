{
 "cells": [
  {
   "cell_type": "code",
   "execution_count": 2,
   "id": "heavy-turkish",
   "metadata": {},
   "outputs": [],
   "source": [
    "# Import all the definitions in the file table_read.ipynb\n",
    "%run ./table_read.ipynb\n",
    "\n"
   ]
  },
  {
   "cell_type": "code",
   "execution_count": 6,
   "id": "demographic-springfield",
   "metadata": {},
   "outputs": [],
   "source": [
    "# Read in the data using Classy Reader, a table reader build the hypatia database. \n",
    "example_data = ClassyReader(filename='example_readin.csv')"
   ]
  },
  {
   "cell_type": "code",
   "execution_count": 10,
   "id": "polyphonic-dictionary",
   "metadata": {},
   "outputs": [
    {
     "name": "stdout",
     "output_type": "stream",
     "text": [
      "The star: HD9999999 has Fe=9.5 and C=8.6\n",
      "\n",
      "The star: HIP9999999 has Fe=8.2 and C=7.5\n",
      "\n"
     ]
    }
   ],
   "source": [
    "# Demonstate what is in the example file, loop over the star names. We also use the enumetate built-in definition\n",
    "# to pair each star_name with it's index value.\n",
    "for row_index, star_name in list(enumerate(example_data.star)):\n",
    "    # Using the index values, we can get the other row data for specific columns\n",
    "    fe_value = example_data.Fe[row_index]\n",
    "    c_value = example_data.C[row_index]\n",
    "    # Make a text output to check the results. Now the use of python format strings f'' where vaiables\n",
    "    # enclosed in {} are converted to strings and added in place.\n",
    "    print(f'The star: {star_name} has Fe={fe_value} and C={c_value}\\n')"
   ]
  },
  {
   "cell_type": "code",
   "execution_count": null,
   "id": "substantial-central",
   "metadata": {},
   "outputs": [],
   "source": []
  }
 ],
 "metadata": {
  "kernelspec": {
   "display_name": "Python 3",
   "language": "python",
   "name": "python3"
  },
  "language_info": {
   "codemirror_mode": {
    "name": "ipython",
    "version": 3
   },
   "file_extension": ".py",
   "mimetype": "text/x-python",
   "name": "python",
   "nbconvert_exporter": "python",
   "pygments_lexer": "ipython3",
   "version": "3.7.10"
  }
 },
 "nbformat": 4,
 "nbformat_minor": 5
}
